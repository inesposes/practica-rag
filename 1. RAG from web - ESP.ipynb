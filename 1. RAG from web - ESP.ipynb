{
 "cells": [
  {
   "cell_type": "code",
   "execution_count": 1,
   "metadata": {},
   "outputs": [
    {
     "name": "stdout",
     "output_type": "stream",
     "text": [
      "Gatos\n",
      "Los gatos son mamíferos carnívoros que pertenecen a la familia de los felinos. Son conocidos por\n",
      "su agilidad, independencia y elegancia. Los gatos han sido compañeros de los humanos durante\n",
      "miles de años.\n",
      "Datos Curiosos:\n",
      "- Los gatos pueden girar sus orejas 180 grados.\n",
      "- Tienen un órgano especial llamado órgano de Jacobson que les permite saborear los olores.\n",
      "- Los gatos domésticos comparten el 95.6% de su ADN con los tigres.\n",
      "- Pueden dormir hasta 16 horas al día.\n",
      "- El ronroneo de un gato tiene propiedades terapéuticas para los humanos.\n",
      "- Los gatos ven en la oscuridad seis veces mejor que los humanos.\n",
      "- Su nariz es tan única como una huella digital humana.\n",
      "- Los bigotes de un gato son fundamentales para medir espacios y orientarse.\n",
      " \n",
      " \n",
      " \n",
      " \n",
      " \n",
      " \n",
      " \n",
      " \n",
      " \n",
      "  \n",
      " \n",
      " \n",
      " \n",
      " \n",
      " \n",
      " \n",
      " \n",
      " \n",
      " \n",
      " \n",
      " \n",
      " \n",
      " \n",
      " \n",
      " \n",
      " \n",
      " \n",
      " \n",
      " \n",
      " \n",
      " \n",
      " \n",
      " \n",
      " \n",
      " \n",
      " \n"
     ]
    }
   ],
   "source": [
    "# Introducción documento \"externo\"\n",
    "import PyPDF2\n",
    "\n",
    "pdf_path = 'pdfs/Gatos.pdf'\n",
    "\n",
    "# Abre el archivo PDF\n",
    "with open(pdf_path, 'rb') as pdf_file:\n",
    "    reader = PyPDF2.PdfReader(pdf_file)\n",
    "    # Extrae texto de cada página\n",
    "    text = \"\"\n",
    "    for page in reader.pages:\n",
    "        text += page.extract_text()\n",
    "    \n",
    "# El texto completo del PDF ahora está en la variable 'text'\n",
    "print(text)\n"
   ]
  },
  {
   "cell_type": "code",
   "execution_count": 2,
   "metadata": {},
   "outputs": [
    {
     "name": "stdout",
     "output_type": "stream",
     "text": [
      "0.3.11\n",
      "2\n"
     ]
    }
   ],
   "source": [
    "# Split del texto recibido\n",
    "import langchain\n",
    "\n",
    "print(langchain.__version__)\n",
    "\n",
    "from langchain.text_splitter  import CharacterTextSplitter\n",
    "\n",
    "text_splitter = CharacterTextSplitter(\n",
    "    separator=\"\\n\",  \n",
    "    chunk_size=800,  \n",
    "    # chunk_overlap=200 \n",
    ")\n",
    "\n",
    "splits = text_splitter.split_text(text)\n",
    "print(len(splits))"
   ]
  },
  {
   "cell_type": "code",
   "execution_count": 3,
   "metadata": {},
   "outputs": [
    {
     "name": "stderr",
     "output_type": "stream",
     "text": [
      "/home/bigdata/miniconda3/envs/rag_env/lib/python3.12/site-packages/tqdm/auto.py:21: TqdmWarning: IProgress not found. Please update jupyter and ipywidgets. See https://ipywidgets.readthedocs.io/en/stable/user_install.html\n",
      "  from .autonotebook import tqdm as notebook_tqdm\n"
     ]
    },
    {
     "ename": "ImportError",
     "evalue": "Could not import sentence_transformers python package. Please install it with `pip install sentence-transformers`.",
     "output_type": "error",
     "traceback": [
      "\u001b[0;31m---------------------------------------------------------------------------\u001b[0m",
      "\u001b[0;31mImportError\u001b[0m                               Traceback (most recent call last)",
      "File \u001b[0;32m~/miniconda3/envs/rag_env/lib/python3.12/site-packages/langchain_huggingface/embeddings/huggingface.py:52\u001b[0m, in \u001b[0;36mHuggingFaceEmbeddings.__init__\u001b[0;34m(self, **kwargs)\u001b[0m\n\u001b[1;32m     51\u001b[0m \u001b[39mtry\u001b[39;00m:\n\u001b[0;32m---> 52\u001b[0m     \u001b[39mimport\u001b[39;00m \u001b[39msentence_transformers\u001b[39;00m  \u001b[39m# type: ignore[import]\u001b[39;00m\n\u001b[1;32m     53\u001b[0m \u001b[39mexcept\u001b[39;00m \u001b[39mImportError\u001b[39;00m \u001b[39mas\u001b[39;00m exc:\n",
      "File \u001b[0;32m~/miniconda3/envs/rag_env/lib/python3.12/site-packages/sentence_transformers/__init__.py:9\u001b[0m\n\u001b[1;32m      7\u001b[0m \u001b[39mimport\u001b[39;00m \u001b[39mos\u001b[39;00m\n\u001b[0;32m----> 9\u001b[0m \u001b[39mfrom\u001b[39;00m \u001b[39msentence_transformers\u001b[39;00m\u001b[39m.\u001b[39;00m\u001b[39mbackend\u001b[39;00m \u001b[39mimport\u001b[39;00m (\n\u001b[1;32m     10\u001b[0m     export_dynamic_quantized_onnx_model,\n\u001b[1;32m     11\u001b[0m     export_optimized_onnx_model,\n\u001b[1;32m     12\u001b[0m     export_static_quantized_openvino_model,\n\u001b[1;32m     13\u001b[0m )\n\u001b[1;32m     14\u001b[0m \u001b[39mfrom\u001b[39;00m \u001b[39msentence_transformers\u001b[39;00m\u001b[39m.\u001b[39;00m\u001b[39mcross_encoder\u001b[39;00m\u001b[39m.\u001b[39;00m\u001b[39mCrossEncoder\u001b[39;00m \u001b[39mimport\u001b[39;00m CrossEncoder\n",
      "File \u001b[0;32m~/miniconda3/envs/rag_env/lib/python3.12/site-packages/sentence_transformers/backend.py:11\u001b[0m\n\u001b[1;32m      9\u001b[0m \u001b[39mimport\u001b[39;00m \u001b[39mhuggingface_hub\u001b[39;00m\n\u001b[0;32m---> 11\u001b[0m \u001b[39mfrom\u001b[39;00m \u001b[39msentence_transformers\u001b[39;00m\u001b[39m.\u001b[39;00m\u001b[39mutil\u001b[39;00m \u001b[39mimport\u001b[39;00m disable_datasets_caching, is_datasets_available\n\u001b[1;32m     13\u001b[0m logger \u001b[39m=\u001b[39m logging\u001b[39m.\u001b[39mgetLogger(\u001b[39m__name__\u001b[39m)\n",
      "File \u001b[0;32m~/miniconda3/envs/rag_env/lib/python3.12/site-packages/sentence_transformers/util.py:22\u001b[0m\n\u001b[1;32m     21\u001b[0m \u001b[39mfrom\u001b[39;00m \u001b[39mtqdm\u001b[39;00m\u001b[39m.\u001b[39;00m\u001b[39mautonotebook\u001b[39;00m \u001b[39mimport\u001b[39;00m tqdm\n\u001b[0;32m---> 22\u001b[0m \u001b[39mfrom\u001b[39;00m \u001b[39mtransformers\u001b[39;00m \u001b[39mimport\u001b[39;00m is_torch_npu_available\n\u001b[1;32m     24\u001b[0m logger \u001b[39m=\u001b[39m logging\u001b[39m.\u001b[39mgetLogger(\u001b[39m__name__\u001b[39m)\n",
      "File \u001b[0;32m~/miniconda3/envs/rag_env/lib/python3.12/site-packages/transformers/__init__.py:26\u001b[0m\n\u001b[1;32m     25\u001b[0m \u001b[39m# Check the dependencies satisfy the minimal versions required.\u001b[39;00m\n\u001b[0;32m---> 26\u001b[0m \u001b[39mfrom\u001b[39;00m \u001b[39m.\u001b[39;00m \u001b[39mimport\u001b[39;00m dependency_versions_check\n\u001b[1;32m     27\u001b[0m \u001b[39mfrom\u001b[39;00m \u001b[39m.\u001b[39;00m\u001b[39mutils\u001b[39;00m \u001b[39mimport\u001b[39;00m (\n\u001b[1;32m     28\u001b[0m     OptionalDependencyNotAvailable,\n\u001b[1;32m     29\u001b[0m     _LazyModule,\n\u001b[0;32m   (...)\u001b[0m\n\u001b[1;32m     48\u001b[0m     logging,\n\u001b[1;32m     49\u001b[0m )\n",
      "File \u001b[0;32m~/miniconda3/envs/rag_env/lib/python3.12/site-packages/transformers/dependency_versions_check.py:57\u001b[0m\n\u001b[1;32m     55\u001b[0m             \u001b[39mcontinue\u001b[39;00m  \u001b[39m# not required, check version only if installed\u001b[39;00m\n\u001b[0;32m---> 57\u001b[0m     require_version_core(deps[pkg])\n\u001b[1;32m     58\u001b[0m \u001b[39melse\u001b[39;00m:\n",
      "File \u001b[0;32m~/miniconda3/envs/rag_env/lib/python3.12/site-packages/transformers/utils/versions.py:117\u001b[0m, in \u001b[0;36mrequire_version_core\u001b[0;34m(requirement)\u001b[0m\n\u001b[1;32m    116\u001b[0m hint \u001b[39m=\u001b[39m \u001b[39m\"\u001b[39m\u001b[39mTry: `pip install transformers -U` or `pip install -e \u001b[39m\u001b[39m'\u001b[39m\u001b[39m.[dev]\u001b[39m\u001b[39m'\u001b[39m\u001b[39m` if you\u001b[39m\u001b[39m'\u001b[39m\u001b[39mre working with git main\u001b[39m\u001b[39m\"\u001b[39m\n\u001b[0;32m--> 117\u001b[0m \u001b[39mreturn\u001b[39;00m require_version(requirement, hint)\n",
      "File \u001b[0;32m~/miniconda3/envs/rag_env/lib/python3.12/site-packages/transformers/utils/versions.py:111\u001b[0m, in \u001b[0;36mrequire_version\u001b[0;34m(requirement, hint)\u001b[0m\n\u001b[1;32m    110\u001b[0m \u001b[39mfor\u001b[39;00m op, want_ver \u001b[39min\u001b[39;00m wanted\u001b[39m.\u001b[39mitems():\n\u001b[0;32m--> 111\u001b[0m     _compare_versions(op, got_ver, want_ver, requirement, pkg, hint)\n",
      "File \u001b[0;32m~/miniconda3/envs/rag_env/lib/python3.12/site-packages/transformers/utils/versions.py:44\u001b[0m, in \u001b[0;36m_compare_versions\u001b[0;34m(op, got_ver, want_ver, requirement, pkg, hint)\u001b[0m\n\u001b[1;32m     43\u001b[0m \u001b[39mif\u001b[39;00m \u001b[39mnot\u001b[39;00m ops[op](version\u001b[39m.\u001b[39mparse(got_ver), version\u001b[39m.\u001b[39mparse(want_ver)):\n\u001b[0;32m---> 44\u001b[0m     \u001b[39mraise\u001b[39;00m \u001b[39mImportError\u001b[39;00m(\n\u001b[1;32m     45\u001b[0m         \u001b[39mf\u001b[39m\u001b[39m\"\u001b[39m\u001b[39m{\u001b[39;00mrequirement\u001b[39m}\u001b[39;00m\u001b[39m is required for a normal functioning of this module, but found \u001b[39m\u001b[39m{\u001b[39;00mpkg\u001b[39m}\u001b[39;00m\u001b[39m==\u001b[39m\u001b[39m{\u001b[39;00mgot_ver\u001b[39m}\u001b[39;00m\u001b[39m.\u001b[39m\u001b[39m{\u001b[39;00mhint\u001b[39m}\u001b[39;00m\u001b[39m\"\u001b[39m\n\u001b[1;32m     46\u001b[0m     )\n",
      "\u001b[0;31mImportError\u001b[0m: tokenizers>=0.21,<0.22 is required for a normal functioning of this module, but found tokenizers==0.20.3.\nTry: `pip install transformers -U` or `pip install -e '.[dev]'` if you're working with git main",
      "\nThe above exception was the direct cause of the following exception:\n",
      "\u001b[0;31mImportError\u001b[0m                               Traceback (most recent call last)",
      "Cell \u001b[0;32mIn[3], line 4\u001b[0m\n\u001b[1;32m      1\u001b[0m \u001b[38;5;66;03m# Vectorizar\u001b[39;00m\n\u001b[1;32m      2\u001b[0m \u001b[38;5;28;01mfrom\u001b[39;00m \u001b[38;5;21;01mlangchain_huggingface\u001b[39;00m \u001b[38;5;28;01mimport\u001b[39;00m HuggingFaceEmbeddings\n\u001b[0;32m----> 4\u001b[0m embeddings \u001b[38;5;241m=\u001b[39m HuggingFaceEmbeddings(model_name\u001b[38;5;241m=\u001b[39m\u001b[38;5;124m\"\u001b[39m\u001b[38;5;124msentence-transformers/all-mpnet-base-v2\u001b[39m\u001b[38;5;124m\"\u001b[39m)\n\u001b[1;32m      6\u001b[0m \u001b[38;5;28;01mfrom\u001b[39;00m \u001b[38;5;21;01mlangchain_community\u001b[39;00m\u001b[38;5;21;01m.\u001b[39;00m\u001b[38;5;21;01mvectorstores\u001b[39;00m \u001b[38;5;28;01mimport\u001b[39;00m Chroma\n\u001b[1;32m      8\u001b[0m vector_store \u001b[38;5;241m=\u001b[39m Chroma\u001b[38;5;241m.\u001b[39mfrom_texts(\n\u001b[1;32m      9\u001b[0m     texts\u001b[38;5;241m=\u001b[39msplits,\n\u001b[1;32m     10\u001b[0m     collection_name\u001b[38;5;241m=\u001b[39m\u001b[38;5;124m\"\u001b[39m\u001b[38;5;124mds_career\u001b[39m\u001b[38;5;124m\"\u001b[39m,\n\u001b[1;32m     11\u001b[0m     embedding\u001b[38;5;241m=\u001b[39membeddings,\n\u001b[1;32m     12\u001b[0m     persist_directory\u001b[38;5;241m=\u001b[39m\u001b[38;5;124m\"\u001b[39m\u001b[38;5;124m./chroma_ds_career\u001b[39m\u001b[38;5;124m\"\u001b[39m,\n\u001b[1;32m     13\u001b[0m )\n",
      "File \u001b[0;32m~/miniconda3/envs/rag_env/lib/python3.12/site-packages/langchain_huggingface/embeddings/huggingface.py:54\u001b[0m, in \u001b[0;36mHuggingFaceEmbeddings.__init__\u001b[0;34m(self, **kwargs)\u001b[0m\n\u001b[1;32m     52\u001b[0m     \u001b[39mimport\u001b[39;00m \u001b[39msentence_transformers\u001b[39;00m  \u001b[39m# type: ignore[import]\u001b[39;00m\n\u001b[1;32m     53\u001b[0m \u001b[39mexcept\u001b[39;00m \u001b[39mImportError\u001b[39;00m \u001b[39mas\u001b[39;00m exc:\n\u001b[0;32m---> 54\u001b[0m     \u001b[39mraise\u001b[39;00m \u001b[39mImportError\u001b[39;00m(\n\u001b[1;32m     55\u001b[0m         \u001b[39m\"\u001b[39m\u001b[39mCould not import sentence_transformers python package. \u001b[39m\u001b[39m\"\u001b[39m\n\u001b[1;32m     56\u001b[0m         \u001b[39m\"\u001b[39m\u001b[39mPlease install it with `pip install sentence-transformers`.\u001b[39m\u001b[39m\"\u001b[39m\n\u001b[1;32m     57\u001b[0m     ) \u001b[39mfrom\u001b[39;00m \u001b[39mexc\u001b[39;00m\n\u001b[1;32m     59\u001b[0m \u001b[39mself\u001b[39m\u001b[39m.\u001b[39m_client \u001b[39m=\u001b[39m sentence_transformers\u001b[39m.\u001b[39mSentenceTransformer(\n\u001b[1;32m     60\u001b[0m     \u001b[39mself\u001b[39m\u001b[39m.\u001b[39mmodel_name, cache_folder\u001b[39m=\u001b[39m\u001b[39mself\u001b[39m\u001b[39m.\u001b[39mcache_folder, \u001b[39m*\u001b[39m\u001b[39m*\u001b[39m\u001b[39mself\u001b[39m\u001b[39m.\u001b[39mmodel_kwargs\n\u001b[1;32m     61\u001b[0m )\n",
      "\u001b[0;31mImportError\u001b[0m: Could not import sentence_transformers python package. Please install it with `pip install sentence-transformers`."
     ]
    }
   ],
   "source": [
    "# Vectorizar\n",
    "from langchain_huggingface import HuggingFaceEmbeddings\n",
    "\n",
    "embeddings = HuggingFaceEmbeddings(model_name=\"sentence-transformers/all-mpnet-base-v2\")\n",
    "\n",
    "from langchain_community.vectorstores import Chroma\n",
    "\n",
    "vector_store = Chroma.from_texts(\n",
    "    texts=splits,\n",
    "    collection_name=\"ds_career\",\n",
    "    embedding=embeddings,\n",
    "    persist_directory=\"./chroma_ds_career\",\n",
    ")\n",
    "\n",
    "retriever = vector_store.as_retriever()"
   ]
  },
  {
   "cell_type": "code",
   "execution_count": null,
   "metadata": {},
   "outputs": [],
   "source": [
    "# Ollama \n",
    "from langchain_core.output_parsers import StrOutputParser\n",
    "from langchain.prompts import ChatPromptTemplate\n",
    "from langchain_ollama.chat_models import ChatOllama\n",
    "from langchain_core.runnables import RunnableLambda, RunnablePassthrough\n",
    "\n",
    "# Prompt\n",
    "template = \"\"\"Answer the question based only on the following context:\n",
    "{context}\n",
    "\n",
    "Question: {question}\n",
    "\"\"\"\n",
    "prompt = ChatPromptTemplate.from_template(template)\n",
    "\n",
    "# Local LLM\n",
    "ollama_llm = \"llama3.2\"\n",
    "model_local = ChatOllama(model=ollama_llm)\n",
    "\n",
    "# Chain\n",
    "chain = (\n",
    "    {\"context\": retriever, \"question\": RunnablePassthrough()}\n",
    "    | prompt\n",
    "    | model_local\n",
    "    | StrOutputParser()\n",
    ")\n"
   ]
  },
  {
   "cell_type": "code",
   "execution_count": null,
   "metadata": {},
   "outputs": [
    {
     "data": {
      "text/plain": [
       "'According to the provided context, if you want to progress in your data science career, Dr. Varshita Sher suggests that you need to develop three business skills:\\n\\n1. Collaboration-driving\\n2. Project-scoping\\n3. Stakeholder-managing\\n4. Strategy-setting\\n\\nThe article includes resources for building those skills.'"
      ]
     },
     "execution_count": 34,
     "metadata": {},
     "output_type": "execute_result"
    }
   ],
   "source": [
    "chain.invoke(\"¿Cuántas horas duerme un gato?\")"
   ]
  },
  {
   "cell_type": "code",
   "execution_count": null,
   "metadata": {},
   "outputs": [
    {
     "data": {
      "text/plain": [
       "'No, the text does not suggest that insulting one\\'s boss would be an effective way to improve in a data science career. In fact, the text mentions \"collaboration-driving\", \"project-scoping\", \"stakeholder-managing\", and \"strategy-setting\" as skills that are important for progression in a data science career, which implies a more collaborative and professional approach.'"
      ]
     },
     "execution_count": 35,
     "metadata": {},
     "output_type": "execute_result"
    }
   ],
   "source": [
    "chain.invoke(\"¿Puede un gato girar las orejas 180 grados?\")"
   ]
  },
  {
   "cell_type": "code",
   "execution_count": null,
   "metadata": {},
   "outputs": [
    {
     "data": {
      "text/plain": [
       "\"Yes, according to the context, being a good communicator is a good idea. The text emphasizes that soft communication skills, such as data storytelling and cross-team collaboration, are crucial for managing teams, pitching products, communicating insights, motivating team members, negotiating better pay, securing funding, and accessing government grants. It suggests that developing these skills can open doors to new opportunities and improve one's career prospects as a data scientist transitioning into leadership roles.\""
      ]
     },
     "execution_count": 36,
     "metadata": {},
     "output_type": "execute_result"
    }
   ],
   "source": [
    "chain.invoke(\"¿Qué es un gato?\")"
   ]
  }
 ],
 "metadata": {
  "kernelspec": {
   "display_name": "Python 3.12.8 ('rag_env')",
   "language": "python",
   "name": "python3"
  },
  "language_info": {
   "codemirror_mode": {
    "name": "ipython",
    "version": 3
   },
   "file_extension": ".py",
   "mimetype": "text/x-python",
   "name": "python",
   "nbconvert_exporter": "python",
   "pygments_lexer": "ipython3",
   "version": "3.12.8"
  },
  "orig_nbformat": 4,
  "vscode": {
   "interpreter": {
    "hash": "dfe5bfd6ccb35b5fb9a12a74b5b75f3fadad63225fc28badb94726025b571174"
   }
  }
 },
 "nbformat": 4,
 "nbformat_minor": 2
}
