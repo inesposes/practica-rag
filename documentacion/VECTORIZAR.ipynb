{
 "cells": [
  {
   "cell_type": "markdown",
   "id": "75ec5898-e9b7-4807-8a86-6f71b060e1f9",
   "metadata": {},
   "source": [
    "# Create and query a Chroma DB\n",
    "Sample of how to store some texts in a Chroma Vector Database using state-of-the-art sentence-transformers and oriented to creating a RAG system."
   ]
  },
  {
   "cell_type": "code",
   "execution_count": null,
   "id": "d1b2e70e-469d-452e-a2ea-23750cd9eff0",
   "metadata": {},
   "outputs": [],
   "source": [
    "# https://python.langchain.com/docs/integrations/vectorstores/chroma/"
   ]
  },
  {
   "cell_type": "code",
   "execution_count": null,
   "id": "e42ddcc0-6a38-420c-84e6-6221d5ba1d85",
   "metadata": {},
   "outputs": [],
   "source": [
    "# !pip install sentence-transformers"
   ]
  },
  {
   "cell_type": "code",
   "execution_count": null,
   "id": "56ffd9bd-d617-48bf-815d-d0dd2af79d3a",
   "metadata": {},
   "outputs": [],
   "source": [
    "# !pip install langchain_chroma"
   ]
  },
  {
   "cell_type": "markdown",
   "id": "5045ac19-920c-401d-a7a2-336fc077d7a3",
   "metadata": {},
   "source": [
    "Create a list of text to store in vector database"
   ]
  },
  {
   "cell_type": "code",
   "execution_count": null,
   "id": "ad68b631-8463-45df-a8b3-82795aec7829",
   "metadata": {},
   "outputs": [],
   "source": [
    "textos = [\"I had chocolate chip pancakes and scrambled eggs for breakfast this morning.\",\n",
    "          \"The weather forecast for tomorrow is cloudy and overcast, with a high of 62 degrees.\",\n",
    "          \"Building an exciting new project with LangChain - come check it out!\",\n",
    "          \"Robbers broke into the city bank and stole $1 million in cash.\",\n",
    "          \"Wow! That was an amazing movie. I can't wait to see it again.\",\n",
    "          \"Is the new iPhone worth the price? Read this review to find out.\",\n",
    "          \"The top 10 soccer players in the world right now.\",\n",
    "          \"LangGraph is the best framework for building stateful, agentic applications!\",\n",
    "          \"The stock market is down 500 points today due to fears of a recession.\",\n",
    "          \"I have a bad feeling I am going to get deleted :(\",]"
   ]
  },
  {
   "cell_type": "markdown",
   "id": "6c5bafec-1447-47cb-9c2a-e4595ded2077",
   "metadata": {},
   "source": [
    "Select **model** for embeddings"
   ]
  },
  {
   "cell_type": "code",
   "execution_count": null,
   "id": "d4733eae-6901-4826-bc6a-b6c33a994022",
   "metadata": {},
   "outputs": [],
   "source": [
    "from langchain_huggingface import HuggingFaceEmbeddings\n",
    "\n",
    "embeddings = HuggingFaceEmbeddings(model_name=\"sentence-transformers/all-mpnet-base-v2\")"
   ]
  },
  {
   "cell_type": "markdown",
   "id": "021f47ab-e715-44d5-b878-0ac81989e69a",
   "metadata": {},
   "source": [
    "Populate database with **texts and embeddings**"
   ]
  },
  {
   "cell_type": "code",
   "execution_count": null,
   "id": "88e759ce-7b9b-44f2-b89e-030140502d0c",
   "metadata": {},
   "outputs": [],
   "source": [
    "from langchain_community.vectorstores import Chroma\n",
    "\n",
    "vector_store = Chroma.from_texts(\n",
    "    texts=textos,\n",
    "    collection_name=\"some_facts\",\n",
    "    embedding=embeddings,\n",
    "    persist_directory=\"./chroma_some_facts\",\n",
    ")"
   ]
  },
  {
   "cell_type": "markdown",
   "id": "76834665-2c46-4ab4-80f6-381a02a7c960",
   "metadata": {},
   "source": [
    "**Searching** data in vectorstore"
   ]
  },
  {
   "cell_type": "code",
   "execution_count": null,
   "id": "8381727a-a53b-461e-a6d1-35d154cff0a9",
   "metadata": {},
   "outputs": [],
   "source": [
    "results = vector_store.similarity_search(\n",
    "    \"LangChain provides abstractions to make working with LLMs easy\",\n",
    "    k=3  #number of results\n",
    ")\n",
    "for res in results:\n",
    "    print(res)"
   ]
  },
  {
   "cell_type": "code",
   "execution_count": null,
   "id": "7f138d6e-bcb3-40a7-93d0-5c6cc64eb507",
   "metadata": {},
   "outputs": [],
   "source": [
    "results = vector_store.similarity_search_with_score(\n",
    "    \"Will it be hot tomorrow?\", k=3,\n",
    ")\n",
    "for res, score in results:\n",
    "    print(f\"* [SIM={score:3f}] {res.page_content}\")"
   ]
  },
  {
   "cell_type": "markdown",
   "id": "d535f430-c319-4b2a-a6ca-0e42dfb4e73e",
   "metadata": {},
   "source": [
    "We can configure a **RETRIEVER**, a key component in Langchain used to find relevant information from document collections"
   ]
  },
  {
   "cell_type": "code",
   "execution_count": null,
   "id": "1ac2fa53-9f72-4541-b247-dcc86a77a49a",
   "metadata": {},
   "outputs": [],
   "source": [
    "retriever = vector_store.as_retriever(\n",
    "    search_type=\"similarity\",  search_kwargs={\"k\": 3}\n",
    ")\n",
    "retriever.invoke(\"Stealing from the bank is a crime\")"
   ]
  },
  {
   "cell_type": "code",
   "execution_count": null,
   "id": "506615cf-9b9b-4c08-9fd8-f01efae4b382",
   "metadata": {},
   "outputs": [],
   "source": []
  }
 ],
 "metadata": {
  "kernelspec": {
   "display_name": "Python 3.12.3 64-bit",
   "language": "python",
   "name": "python3"
  },
  "language_info": {
   "codemirror_mode": {
    "name": "ipython",
    "version": 3
   },
   "file_extension": ".py",
   "mimetype": "text/x-python",
   "name": "python",
   "nbconvert_exporter": "python",
   "pygments_lexer": "ipython3",
   "version": "3.12.3"
  },
  "vscode": {
   "interpreter": {
    "hash": "916dbcbb3f70747c44a77c7bcd40155683ae19c65e1c03b4aa3499c5328201f1"
   }
  }
 },
 "nbformat": 4,
 "nbformat_minor": 5
}
