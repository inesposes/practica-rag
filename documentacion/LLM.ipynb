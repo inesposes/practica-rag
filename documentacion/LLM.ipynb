{
 "cells": [
  {
   "cell_type": "markdown",
   "id": "f98e7f0c-a328-4911-a54d-7fcfd80dcdde",
   "metadata": {},
   "source": [
    "# Chat wit a LLM model\n",
    "This notebook is designed to work with a local instance of Ollama running different models like, for example: llama3.2"
   ]
  },
  {
   "cell_type": "code",
   "execution_count": null,
   "id": "6c69182f-1d08-41db-82b3-1d789e7844cb",
   "metadata": {},
   "outputs": [],
   "source": [
    "from langchain_core.prompts import ChatPromptTemplate\n",
    "from langchain_ollama.llms import OllamaLLM"
   ]
  },
  {
   "cell_type": "code",
   "execution_count": null,
   "id": "cb81a45e-bdfb-4b74-a5c0-133cc028a53f",
   "metadata": {},
   "outputs": [],
   "source": [
    "# Define a template to build a prompt\n",
    "template = \"\"\"Question: {question}\n",
    "\n",
    "Answer: Be concise\"\"\""
   ]
  },
  {
   "cell_type": "code",
   "execution_count": null,
   "id": "075c61a3-236b-4a54-953d-504dcdaa25bc",
   "metadata": {},
   "outputs": [],
   "source": [
    "# Define a chat prompt from previous template\n",
    "prompt = ChatPromptTemplate.from_template(template)"
   ]
  },
  {
   "cell_type": "code",
   "execution_count": null,
   "id": "7a833b6c-30e2-4b15-8aa0-75c30e1d4181",
   "metadata": {},
   "outputs": [],
   "source": [
    "# Select a model to talk with\n",
    "model = OllamaLLM(model=\"llama3.2\")\n",
    "#model = OllamaLLM(model=\"llama3.2\",base_url='http://localhost:11434')\n",
    "#model = OllamaLLM(model=\"llama3.2\",base_url='http://localhost:3000/api/chat/completions',api_key='sk-xyzq') ¿¿¿???"
   ]
  },
  {
   "cell_type": "code",
   "execution_count": null,
   "id": "a3620509-53bb-4477-9573-c8cd631fe06f",
   "metadata": {},
   "outputs": [],
   "source": [
    "# Define the chain\n",
    "chain = prompt | model"
   ]
  },
  {
   "cell_type": "code",
   "execution_count": null,
   "id": "deb18452-c6f1-46df-89f4-1d782217689c",
   "metadata": {},
   "outputs": [],
   "source": [
    "# Invoke a chain passing a {question}\n",
    "chain.invoke({\"question\": \"how to make a omelet?\"})"
   ]
  },
  {
   "cell_type": "code",
   "execution_count": null,
   "id": "089c9a2f-e09e-4b84-8641-8779b5186746",
   "metadata": {},
   "outputs": [],
   "source": []
  },
  {
   "cell_type": "code",
   "execution_count": null,
   "id": "40184d1e-3078-4dc9-81ba-02b215e830ee",
   "metadata": {},
   "outputs": [],
   "source": []
  },
  {
   "cell_type": "code",
   "execution_count": null,
   "id": "e97c6728-f158-449d-83e9-8b7c11cd6fb7",
   "metadata": {},
   "outputs": [],
   "source": [
    "# Make the asnwer longer"
   ]
  },
  {
   "cell_type": "code",
   "execution_count": null,
   "id": "57d59e8a-ce94-437f-9c25-fd5696b8d85e",
   "metadata": {},
   "outputs": [],
   "source": [
    "template = \"\"\"Question: {question}\n",
    "\n",
    "Answer: Long answer. In spanish\"\"\""
   ]
  },
  {
   "cell_type": "code",
   "execution_count": null,
   "id": "a114eb10-a916-495a-bc63-c462c682fd47",
   "metadata": {},
   "outputs": [],
   "source": [
    "# Try a new question using Spanish"
   ]
  },
  {
   "cell_type": "code",
   "execution_count": null,
   "id": "f9061ae5-06f8-4e3a-ad1b-616aecb1c3d7",
   "metadata": {},
   "outputs": [],
   "source": [
    "chain.invoke({\"question\": \"Como correr un maratón?\"})"
   ]
  },
  {
   "cell_type": "code",
   "execution_count": null,
   "id": "ce67f182-aafc-47d0-bf62-258611062dcf",
   "metadata": {},
   "outputs": [],
   "source": [
    "# Make the question in Spanish but force the question be in English"
   ]
  },
  {
   "cell_type": "code",
   "execution_count": null,
   "id": "cc84095a-b74f-4c79-a316-3a54fffc2a4d",
   "metadata": {},
   "outputs": [],
   "source": [
    "template = \"\"\"Question: {question}\n",
    "\n",
    "Answer: in Spanish\"\"\""
   ]
  },
  {
   "cell_type": "code",
   "execution_count": null,
   "id": "eb5cb46f-b094-4cf5-93cc-1dea2bfa4fa2",
   "metadata": {},
   "outputs": [],
   "source": [
    "# Make the system acts like a coach"
   ]
  },
  {
   "cell_type": "code",
   "execution_count": null,
   "id": "f3129c8b-3980-4b6a-acc8-05eaef7b6b19",
   "metadata": {},
   "outputs": [],
   "source": [
    "template = \"\"\"\n",
    "Act like a coach.\n",
    "Question: {question}\n",
    "\n",
    "Answer: in Spanish\"\"\""
   ]
  },
  {
   "cell_type": "code",
   "execution_count": null,
   "id": "1eeeb8e5-22bf-4007-810d-49e7cac6f972",
   "metadata": {},
   "outputs": [],
   "source": [
    "# Change the model : tinyllama, qwen2.5:1.5b, \n",
    "# https://ollama.com/library/"
   ]
  },
  {
   "cell_type": "code",
   "execution_count": null,
   "id": "151ad979-abbe-42f0-9695-1c49a8069820",
   "metadata": {},
   "outputs": [],
   "source": [
    "model = OllamaLLM(model=\"tinyllama\")"
   ]
  },
  {
   "cell_type": "code",
   "execution_count": null,
   "id": "d975a9b6-20a0-4f22-a933-9fa70d474c91",
   "metadata": {},
   "outputs": [],
   "source": []
  },
  {
   "cell_type": "code",
   "execution_count": null,
   "id": "d122bf73-101e-4252-b649-1c52796c2b40",
   "metadata": {},
   "outputs": [],
   "source": [
    "# Select a remote model\n",
    "# model = OllamaLLM(model=\"llama3.2\")\n",
    "model = OllamaLLM(model=\"llama3.2\",base_url='http://localhost:11434')\n",
    "# model = OllamaLLM(model=\"llama3.2\",base_url='http://x.y.z.w:11434')\n",
    "# model = OllamaLLM(model=\"llama3.2\",base_url='http://localhost:3000/api/chat/completions',api_key='sk-xxxx') #Open-Webui: not verified"
   ]
  }
 ],
 "metadata": {
  "kernelspec": {
   "display_name": "Python 3.12.3 64-bit",
   "language": "python",
   "name": "python3"
  },
  "language_info": {
   "codemirror_mode": {
    "name": "ipython",
    "version": 3
   },
   "file_extension": ".py",
   "mimetype": "text/x-python",
   "name": "python",
   "nbconvert_exporter": "python",
   "pygments_lexer": "ipython3",
   "version": "3.12.3"
  },
  "vscode": {
   "interpreter": {
    "hash": "916dbcbb3f70747c44a77c7bcd40155683ae19c65e1c03b4aa3499c5328201f1"
   }
  }
 },
 "nbformat": 4,
 "nbformat_minor": 5
}
