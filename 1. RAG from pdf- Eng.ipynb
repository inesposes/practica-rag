{
 "cells": [
  {
   "cell_type": "code",
   "execution_count": 10,
   "metadata": {},
   "outputs": [],
   "source": [
    "# Introducción documento \"externo\"\n",
    "import requests\n",
    "from bs4 import BeautifulSoup\n",
    "\n",
    "web_link='https://towardsdatascience.com/3-business-skills-you-need-to-progress-your-data-science-career-in-2025-146f841d1a1e'\n",
    "\n",
    "response = requests.get(web_link)\n",
    "if response.status_code == 200:\n",
    "    soup = BeautifulSoup(response.content, 'html.parser')\n",
    "    text = soup.get_text(separator=\"\\n\", strip=True)\n"
   ]
  },
  {
   "cell_type": "code",
   "execution_count": 11,
   "metadata": {},
   "outputs": [
    {
     "name": "stdout",
     "output_type": "stream",
     "text": [
      "0.3.11\n",
      "19\n"
     ]
    }
   ],
   "source": [
    "# Split del texto recibido\n",
    "import langchain\n",
    "\n",
    "print(langchain.__version__)\n",
    "\n",
    "from langchain.text_splitter  import CharacterTextSplitter\n",
    "\n",
    "text_splitter = CharacterTextSplitter(\n",
    "    separator=\"\\n\",  \n",
    "    chunk_size=800,  \n",
    "    # chunk_overlap=200 \n",
    ")\n",
    "\n",
    "splits = text_splitter.split_text(text)\n",
    "print(len(splits))"
   ]
  },
  {
   "cell_type": "code",
   "execution_count": 12,
   "metadata": {},
   "outputs": [],
   "source": [
    "# Vectorizar\n",
    "from langchain_huggingface import HuggingFaceEmbeddings\n",
    "\n",
    "embeddings = HuggingFaceEmbeddings(model_name=\"sentence-transformers/all-mpnet-base-v2\")\n",
    "\n",
    "from langchain_community.vectorstores import Chroma\n",
    "\n",
    "vector_store = Chroma.from_texts(\n",
    "    texts=splits,\n",
    "    collection_name=\"ds_career\",\n",
    "    embedding=embeddings,\n",
    "    persist_directory=\"./chroma_ds_career\",\n",
    ")\n",
    "\n",
    "retriever = vector_store.as_retriever()"
   ]
  },
  {
   "cell_type": "code",
   "execution_count": 13,
   "metadata": {},
   "outputs": [],
   "source": [
    "# Ollama \n",
    "from langchain_core.output_parsers import StrOutputParser\n",
    "from langchain.prompts import ChatPromptTemplate\n",
    "from langchain_ollama.chat_models import ChatOllama\n",
    "from langchain_core.runnables import RunnableLambda, RunnablePassthrough\n",
    "\n",
    "# Prompt\n",
    "template = \"\"\"Answer the question based only on the following context:\n",
    "{context}\n",
    "\n",
    "Question: {question}\n",
    "\"\"\"\n",
    "prompt = ChatPromptTemplate.from_template(template)\n",
    "\n",
    "# Local LLM\n",
    "ollama_llm = \"llama3.2\"\n",
    "model_local = ChatOllama(model=ollama_llm)\n",
    "\n",
    "# Chain\n",
    "chain = (\n",
    "    {\"context\": retriever, \"question\": RunnablePassthrough()}\n",
    "    | prompt\n",
    "    | model_local\n",
    "    | StrOutputParser()\n",
    ")\n"
   ]
  },
  {
   "cell_type": "code",
   "execution_count": 14,
   "metadata": {},
   "outputs": [],
   "source": [
    "chain.invoke(\"What would you do if you would like to progress in your data science career?\")"
   ]
  },
  {
   "cell_type": "code",
   "execution_count": null,
   "metadata": {},
   "outputs": [
    {
     "data": {
      "text/plain": [
       "'No, the text does not suggest that insulting one\\'s boss would be an effective way to improve in a data science career. In fact, the text mentions \"collaboration-driving\", \"project-scoping\", \"stakeholder-managing\", and \"strategy-setting\" as skills that are important for progression in a data science career, which implies a more collaborative and professional approach.'"
      ]
     },
     "execution_count": 35,
     "metadata": {},
     "output_type": "execute_result"
    }
   ],
   "source": [
    "chain.invoke(\"Would you insult your boss if you wanted to improve in your data science career?\")"
   ]
  },
  {
   "cell_type": "code",
   "execution_count": null,
   "metadata": {},
   "outputs": [
    {
     "data": {
      "text/plain": [
       "\"Yes, according to the context, being a good communicator is a good idea. The text emphasizes that soft communication skills, such as data storytelling and cross-team collaboration, are crucial for managing teams, pitching products, communicating insights, motivating team members, negotiating better pay, securing funding, and accessing government grants. It suggests that developing these skills can open doors to new opportunities and improve one's career prospects as a data scientist transitioning into leadership roles.\""
      ]
     },
     "execution_count": 36,
     "metadata": {},
     "output_type": "execute_result"
    }
   ],
   "source": [
    "chain.invoke(\"Is it a good idea to be a good a communication?\")"
   ]
  }
 ],
 "metadata": {
  "kernelspec": {
   "display_name": "Python 3.12.8 ('rag_env')",
   "language": "python",
   "name": "python3"
  },
  "language_info": {
   "codemirror_mode": {
    "name": "ipython",
    "version": 3
   },
   "file_extension": ".py",
   "mimetype": "text/x-python",
   "name": "python",
   "nbconvert_exporter": "python",
   "pygments_lexer": "ipython3",
   "version": "3.12.8"
  },
  "orig_nbformat": 4,
  "vscode": {
   "interpreter": {
    "hash": "dfe5bfd6ccb35b5fb9a12a74b5b75f3fadad63225fc28badb94726025b571174"
   }
  }
 },
 "nbformat": 4,
 "nbformat_minor": 2
}
