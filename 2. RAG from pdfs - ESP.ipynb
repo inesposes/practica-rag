{
 "cells": [
  {
   "cell_type": "markdown",
   "metadata": {},
   "source": [
    "# RAG desde PDF - ESPAÑOL\n",
    "\n",
    "Este RAG recibe tres pdfs sobre animales y responde a unas preguntas"
   ]
  },
  {
   "cell_type": "markdown",
   "metadata": {},
   "source": [
    "## 1. Código"
   ]
  },
  {
   "cell_type": "code",
   "execution_count": 1,
   "metadata": {},
   "outputs": [],
   "source": [
    "# Introducción documento \"externo\"\n",
    "import PyPDF2\n",
    "pdf_names=[ \"arboles\", \"flores\", \"plantas\"]\n",
    "\n",
    "pdf_paths=[]\n",
    "for name in pdf_names:\n",
    "    pdf_paths.append('pdfs/'+name+'.pdf')\n",
    "text=\"\"\n",
    "for pdf in pdf_paths:\n",
    "    with open(pdf, 'rb') as pdf_file:\n",
    "        reader = PyPDF2.PdfReader(pdf_file)\n",
    "        for page in reader.pages:\n",
    "            text = text + page.extract_text() "
   ]
  },
  {
   "cell_type": "code",
   "execution_count": 2,
   "metadata": {},
   "outputs": [
    {
     "name": "stdout",
     "output_type": "stream",
     "text": [
      "142\n"
     ]
    }
   ],
   "source": [
    "# Split del texto recibido\n",
    "import langchain\n",
    "from langchain.text_splitter  import CharacterTextSplitter\n",
    "\n",
    "text_splitter = CharacterTextSplitter(\n",
    "    separator=\"\\n\",  \n",
    "    chunk_size=400,  \n",
    "    # chunk_overlap=200 \n",
    ")\n",
    "\n",
    "splits = text_splitter.split_text(text)\n",
    "print(len(splits))"
   ]
  },
  {
   "cell_type": "code",
   "execution_count": 4,
   "metadata": {},
   "outputs": [
    {
     "ename": "ServerSelectionTimeoutError",
     "evalue": "SSL handshake failed: cluster0-shard-00-02.wbknj.mongodb.net:27017: [SSL: TLSV1_ALERT_INTERNAL_ERROR] tlsv1 alert internal error (_ssl.c:1018) (configured timeouts: socketTimeoutMS: 20000.0ms, connectTimeoutMS: 20000.0ms),SSL handshake failed: cluster0-shard-00-00.wbknj.mongodb.net:27017: [SSL: TLSV1_ALERT_INTERNAL_ERROR] tlsv1 alert internal error (_ssl.c:1018) (configured timeouts: socketTimeoutMS: 20000.0ms, connectTimeoutMS: 20000.0ms),SSL handshake failed: cluster0-shard-00-01.wbknj.mongodb.net:27017: [SSL: TLSV1_ALERT_INTERNAL_ERROR] tlsv1 alert internal error (_ssl.c:1018) (configured timeouts: socketTimeoutMS: 20000.0ms, connectTimeoutMS: 20000.0ms), Timeout: 30s, Topology Description: <TopologyDescription id: 67616fbac7c60c7e08df64f4, topology_type: ReplicaSetNoPrimary, servers: [<ServerDescription ('cluster0-shard-00-00.wbknj.mongodb.net', 27017) server_type: Unknown, rtt: None, error=AutoReconnect('SSL handshake failed: cluster0-shard-00-00.wbknj.mongodb.net:27017: [SSL: TLSV1_ALERT_INTERNAL_ERROR] tlsv1 alert internal error (_ssl.c:1018) (configured timeouts: socketTimeoutMS: 20000.0ms, connectTimeoutMS: 20000.0ms)')>, <ServerDescription ('cluster0-shard-00-01.wbknj.mongodb.net', 27017) server_type: Unknown, rtt: None, error=AutoReconnect('SSL handshake failed: cluster0-shard-00-01.wbknj.mongodb.net:27017: [SSL: TLSV1_ALERT_INTERNAL_ERROR] tlsv1 alert internal error (_ssl.c:1018) (configured timeouts: socketTimeoutMS: 20000.0ms, connectTimeoutMS: 20000.0ms)')>, <ServerDescription ('cluster0-shard-00-02.wbknj.mongodb.net', 27017) server_type: Unknown, rtt: None, error=AutoReconnect('SSL handshake failed: cluster0-shard-00-02.wbknj.mongodb.net:27017: [SSL: TLSV1_ALERT_INTERNAL_ERROR] tlsv1 alert internal error (_ssl.c:1018) (configured timeouts: socketTimeoutMS: 20000.0ms, connectTimeoutMS: 20000.0ms)')>]>",
     "output_type": "error",
     "traceback": [
      "\u001b[0;31m---------------------------------------------------------------------------\u001b[0m",
      "\u001b[0;31mServerSelectionTimeoutError\u001b[0m               Traceback (most recent call last)",
      "Cell \u001b[0;32mIn[4], line 34\u001b[0m\n\u001b[1;32m     28\u001b[0m     embedding \u001b[38;5;241m=\u001b[39m embeddings\u001b[38;5;241m.\u001b[39membed_documents(split) \n\u001b[1;32m     29\u001b[0m     document \u001b[38;5;241m=\u001b[39m Document(\n\u001b[1;32m     30\u001b[0m         page_content\u001b[38;5;241m=\u001b[39msplit,  \n\u001b[1;32m     31\u001b[0m         embedding\u001b[38;5;241m=\u001b[39membedding \n\u001b[1;32m     32\u001b[0m     )\n\u001b[0;32m---> 34\u001b[0m     \u001b[43mvector_store\u001b[49m\u001b[38;5;241;43m.\u001b[39;49m\u001b[43madd_documents\u001b[49m\u001b[43m(\u001b[49m\u001b[43m[\u001b[49m\u001b[43mdocument\u001b[49m\u001b[43m]\u001b[49m\u001b[43m)\u001b[49m\n\u001b[1;32m     35\u001b[0m vector_store\u001b[38;5;241m.\u001b[39mcreate_vector_search_index(dimensions\u001b[38;5;241m=\u001b[39m\u001b[38;5;241m768\u001b[39m)\n\u001b[1;32m     38\u001b[0m retriever \u001b[38;5;241m=\u001b[39m vector_store\u001b[38;5;241m.\u001b[39mas_retriever()\n",
      "File \u001b[0;32m~/miniconda3/envs/ragtoday/lib/python3.13/site-packages/langchain_mongodb/vectorstores.py:434\u001b[0m, in \u001b[0;36mMongoDBAtlasVectorSearch.add_documents\u001b[0;34m(self, documents, ids, batch_size, **kwargs)\u001b[0m\n\u001b[1;32m    427\u001b[0m         result_ids\u001b[39m.\u001b[39mextend(\n\u001b[1;32m    428\u001b[0m             \u001b[39mself\u001b[39m\u001b[39m.\u001b[39mbulk_embed_and_insert_texts(\n\u001b[1;32m    429\u001b[0m                 texts\u001b[39m=\u001b[39mtexts, metadatas\u001b[39m=\u001b[39mmetadatas, ids\u001b[39m=\u001b[39mids[start:end]\n\u001b[1;32m    430\u001b[0m             )\n\u001b[1;32m    431\u001b[0m         )\n\u001b[1;32m    432\u001b[0m     \u001b[39melse\u001b[39;00m:\n\u001b[1;32m    433\u001b[0m         result_ids\u001b[39m.\u001b[39mextend(\n\u001b[0;32m--> 434\u001b[0m             \u001b[39mself\u001b[39;49m\u001b[39m.\u001b[39;49mbulk_embed_and_insert_texts(texts\u001b[39m=\u001b[39;49mtexts, metadatas\u001b[39m=\u001b[39;49mmetadatas)\n\u001b[1;32m    435\u001b[0m         )\n\u001b[1;32m    436\u001b[0m     start \u001b[39m=\u001b[39m end\n\u001b[1;32m    437\u001b[0m \u001b[39mreturn\u001b[39;00m result_ids\n",
      "File \u001b[0;32m~/miniconda3/envs/ragtoday/lib/python3.13/site-packages/langchain_mongodb/vectorstores.py:395\u001b[0m, in \u001b[0;36mMongoDBAtlasVectorSearch.bulk_embed_and_insert_texts\u001b[0;34m(self, texts, metadatas, ids)\u001b[0m\n\u001b[1;32m    390\u001b[0m     to_insert \u001b[39m=\u001b[39m [\n\u001b[1;32m    391\u001b[0m         {\u001b[39mself\u001b[39m\u001b[39m.\u001b[39m_text_key: t, \u001b[39mself\u001b[39m\u001b[39m.\u001b[39m_embedding_key: embedding, \u001b[39m*\u001b[39m\u001b[39m*\u001b[39mm}\n\u001b[1;32m    392\u001b[0m         \u001b[39mfor\u001b[39;00m t, m, embedding \u001b[39min\u001b[39;00m \u001b[39mzip\u001b[39m(texts, metadatas, embeddings)\n\u001b[1;32m    393\u001b[0m     ]\n\u001b[1;32m    394\u001b[0m \u001b[39m# insert the documents in MongoDB Atlas\u001b[39;00m\n\u001b[0;32m--> 395\u001b[0m insert_result \u001b[39m=\u001b[39m \u001b[39mself\u001b[39;49m\u001b[39m.\u001b[39;49m_collection\u001b[39m.\u001b[39;49minsert_many(to_insert)  \u001b[39m# type: ignore\u001b[39;00m\n\u001b[1;32m    396\u001b[0m \u001b[39mreturn\u001b[39;00m [oid_to_str(_id) \u001b[39mfor\u001b[39;00m _id \u001b[39min\u001b[39;00m insert_result\u001b[39m.\u001b[39minserted_ids]\n",
      "File \u001b[0;32m~/miniconda3/envs/ragtoday/lib/python3.13/site-packages/pymongo/_csot.py:120\u001b[0m, in \u001b[0;36mapply.<locals>.csot_wrapper\u001b[0;34m(self, *args, **kwargs)\u001b[0m\n\u001b[1;32m    118\u001b[0m         \u001b[39mwith\u001b[39;00m _TimeoutContext(timeout):\n\u001b[1;32m    119\u001b[0m             \u001b[39mreturn\u001b[39;00m func(\u001b[39mself\u001b[39m, \u001b[39m*\u001b[39margs, \u001b[39m*\u001b[39m\u001b[39m*\u001b[39mkwargs)\n\u001b[0;32m--> 120\u001b[0m \u001b[39mreturn\u001b[39;00m func(\u001b[39mself\u001b[39;49m, \u001b[39m*\u001b[39;49margs, \u001b[39m*\u001b[39;49m\u001b[39m*\u001b[39;49mkwargs)\n",
      "File \u001b[0;32m~/miniconda3/envs/ragtoday/lib/python3.13/site-packages/pymongo/synchronous/collection.py:954\u001b[0m, in \u001b[0;36mCollection.insert_many\u001b[0;34m(self, documents, ordered, bypass_document_validation, session, comment)\u001b[0m\n\u001b[1;32m    952\u001b[0m blk \u001b[39m=\u001b[39m _Bulk(\u001b[39mself\u001b[39m, ordered, bypass_document_validation, comment\u001b[39m=\u001b[39mcomment)\n\u001b[1;32m    953\u001b[0m blk\u001b[39m.\u001b[39mops \u001b[39m=\u001b[39m \u001b[39mlist\u001b[39m(gen())\n\u001b[0;32m--> 954\u001b[0m blk\u001b[39m.\u001b[39;49mexecute(write_concern, session, _Op\u001b[39m.\u001b[39;49mINSERT)\n\u001b[1;32m    955\u001b[0m \u001b[39mreturn\u001b[39;00m InsertManyResult(inserted_ids, write_concern\u001b[39m.\u001b[39macknowledged)\n",
      "File \u001b[0;32m~/miniconda3/envs/ragtoday/lib/python3.13/site-packages/pymongo/synchronous/bulk.py:736\u001b[0m, in \u001b[0;36m_Bulk.execute\u001b[0;34m(self, write_concern, session, operation)\u001b[0m\n\u001b[1;32m    734\u001b[0m         \u001b[39mreturn\u001b[39;00m \u001b[39mNone\u001b[39;00m\n\u001b[1;32m    735\u001b[0m \u001b[39melse\u001b[39;00m:\n\u001b[0;32m--> 736\u001b[0m     \u001b[39mreturn\u001b[39;00m \u001b[39mself\u001b[39;49m\u001b[39m.\u001b[39;49mexecute_command(generator, write_concern, session, operation)\n",
      "File \u001b[0;32m~/miniconda3/envs/ragtoday/lib/python3.13/site-packages/pymongo/synchronous/bulk.py:593\u001b[0m, in \u001b[0;36m_Bulk.execute_command\u001b[0;34m(self, generator, write_concern, session, operation)\u001b[0m\n\u001b[1;32m    582\u001b[0m     \u001b[39mself\u001b[39m\u001b[39m.\u001b[39m_execute_command(\n\u001b[1;32m    583\u001b[0m         generator,\n\u001b[1;32m    584\u001b[0m         write_concern,\n\u001b[0;32m   (...)\u001b[0m\n\u001b[1;32m    589\u001b[0m         full_result,\n\u001b[1;32m    590\u001b[0m     )\n\u001b[1;32m    592\u001b[0m client \u001b[39m=\u001b[39m \u001b[39mself\u001b[39m\u001b[39m.\u001b[39mcollection\u001b[39m.\u001b[39mdatabase\u001b[39m.\u001b[39mclient\n\u001b[0;32m--> 593\u001b[0m _ \u001b[39m=\u001b[39m client\u001b[39m.\u001b[39;49m_retryable_write(\n\u001b[1;32m    594\u001b[0m     \u001b[39mself\u001b[39;49m\u001b[39m.\u001b[39;49mis_retryable,\n\u001b[1;32m    595\u001b[0m     retryable_bulk,\n\u001b[1;32m    596\u001b[0m     session,\n\u001b[1;32m    597\u001b[0m     operation,\n\u001b[1;32m    598\u001b[0m     bulk\u001b[39m=\u001b[39;49m\u001b[39mself\u001b[39;49m,  \u001b[39m# type: ignore[arg-type]\u001b[39;49;00m\n\u001b[1;32m    599\u001b[0m     operation_id\u001b[39m=\u001b[39;49mop_id,\n\u001b[1;32m    600\u001b[0m )\n\u001b[1;32m    602\u001b[0m \u001b[39mif\u001b[39;00m full_result[\u001b[39m\"\u001b[39m\u001b[39mwriteErrors\u001b[39m\u001b[39m\"\u001b[39m] \u001b[39mor\u001b[39;00m full_result[\u001b[39m\"\u001b[39m\u001b[39mwriteConcernErrors\u001b[39m\u001b[39m\"\u001b[39m]:\n\u001b[1;32m    603\u001b[0m     _raise_bulk_write_error(full_result)\n",
      "File \u001b[0;32m~/miniconda3/envs/ragtoday/lib/python3.13/site-packages/pymongo/synchronous/mongo_client.py:1898\u001b[0m, in \u001b[0;36mMongoClient._retryable_write\u001b[0;34m(self, retryable, func, session, operation, bulk, operation_id)\u001b[0m\n\u001b[1;32m   1884\u001b[0m \u001b[39m\u001b[39m\u001b[39m\"\"\"Execute an operation with consecutive retries if possible\u001b[39;00m\n\u001b[1;32m   1885\u001b[0m \n\u001b[1;32m   1886\u001b[0m \u001b[39mReturns func()'s return value on success. On error retries the same\u001b[39;00m\n\u001b[0;32m   (...)\u001b[0m\n\u001b[1;32m   1895\u001b[0m \u001b[39m:param bulk: bulk abstraction to execute operations in bulk, defaults to None\u001b[39;00m\n\u001b[1;32m   1896\u001b[0m \u001b[39m\"\"\"\u001b[39;00m\n\u001b[1;32m   1897\u001b[0m \u001b[39mwith\u001b[39;00m \u001b[39mself\u001b[39m\u001b[39m.\u001b[39m_tmp_session(session) \u001b[39mas\u001b[39;00m s:\n\u001b[0;32m-> 1898\u001b[0m     \u001b[39mreturn\u001b[39;00m \u001b[39mself\u001b[39;49m\u001b[39m.\u001b[39;49m_retry_with_session(retryable, func, s, bulk, operation, operation_id)\n",
      "File \u001b[0;32m~/miniconda3/envs/ragtoday/lib/python3.13/site-packages/pymongo/synchronous/mongo_client.py:1784\u001b[0m, in \u001b[0;36mMongoClient._retry_with_session\u001b[0;34m(self, retryable, func, session, bulk, operation, operation_id)\u001b[0m\n\u001b[1;32m   1779\u001b[0m \u001b[39m# Ensure that the options supports retry_writes and there is a valid session not in\u001b[39;00m\n\u001b[1;32m   1780\u001b[0m \u001b[39m# transaction, otherwise, we will not support retry behavior for this txn.\u001b[39;00m\n\u001b[1;32m   1781\u001b[0m retryable \u001b[39m=\u001b[39m \u001b[39mbool\u001b[39m(\n\u001b[1;32m   1782\u001b[0m     retryable \u001b[39mand\u001b[39;00m \u001b[39mself\u001b[39m\u001b[39m.\u001b[39moptions\u001b[39m.\u001b[39mretry_writes \u001b[39mand\u001b[39;00m session \u001b[39mand\u001b[39;00m \u001b[39mnot\u001b[39;00m session\u001b[39m.\u001b[39min_transaction\n\u001b[1;32m   1783\u001b[0m )\n\u001b[0;32m-> 1784\u001b[0m \u001b[39mreturn\u001b[39;00m \u001b[39mself\u001b[39;49m\u001b[39m.\u001b[39;49m_retry_internal(\n\u001b[1;32m   1785\u001b[0m     func\u001b[39m=\u001b[39;49mfunc,\n\u001b[1;32m   1786\u001b[0m     session\u001b[39m=\u001b[39;49msession,\n\u001b[1;32m   1787\u001b[0m     bulk\u001b[39m=\u001b[39;49mbulk,\n\u001b[1;32m   1788\u001b[0m     operation\u001b[39m=\u001b[39;49moperation,\n\u001b[1;32m   1789\u001b[0m     retryable\u001b[39m=\u001b[39;49mretryable,\n\u001b[1;32m   1790\u001b[0m     operation_id\u001b[39m=\u001b[39;49moperation_id,\n\u001b[1;32m   1791\u001b[0m )\n",
      "File \u001b[0;32m~/miniconda3/envs/ragtoday/lib/python3.13/site-packages/pymongo/_csot.py:120\u001b[0m, in \u001b[0;36mapply.<locals>.csot_wrapper\u001b[0;34m(self, *args, **kwargs)\u001b[0m\n\u001b[1;32m    118\u001b[0m         \u001b[39mwith\u001b[39;00m _TimeoutContext(timeout):\n\u001b[1;32m    119\u001b[0m             \u001b[39mreturn\u001b[39;00m func(\u001b[39mself\u001b[39m, \u001b[39m*\u001b[39margs, \u001b[39m*\u001b[39m\u001b[39m*\u001b[39mkwargs)\n\u001b[0;32m--> 120\u001b[0m \u001b[39mreturn\u001b[39;00m func(\u001b[39mself\u001b[39;49m, \u001b[39m*\u001b[39;49margs, \u001b[39m*\u001b[39;49m\u001b[39m*\u001b[39;49mkwargs)\n",
      "File \u001b[0;32m~/miniconda3/envs/ragtoday/lib/python3.13/site-packages/pymongo/synchronous/mongo_client.py:1830\u001b[0m, in \u001b[0;36mMongoClient._retry_internal\u001b[0;34m(self, func, session, bulk, operation, is_read, address, read_pref, retryable, operation_id)\u001b[0m\n\u001b[1;32m   1793\u001b[0m \u001b[39m@_csot\u001b[39m\u001b[39m.\u001b[39mapply\n\u001b[1;32m   1794\u001b[0m \u001b[39mdef\u001b[39;00m \u001b[39m_retry_internal\u001b[39m(\n\u001b[1;32m   1795\u001b[0m     \u001b[39mself\u001b[39m,\n\u001b[0;32m   (...)\u001b[0m\n\u001b[1;32m   1804\u001b[0m     operation_id: Optional[\u001b[39mint\u001b[39m] \u001b[39m=\u001b[39m \u001b[39mNone\u001b[39;00m,\n\u001b[1;32m   1805\u001b[0m ) \u001b[39m-\u001b[39m\u001b[39m>\u001b[39m T:\n\u001b[1;32m   1806\u001b[0m \u001b[39m    \u001b[39m\u001b[39m\"\"\"Internal retryable helper for all client transactions.\u001b[39;00m\n\u001b[1;32m   1807\u001b[0m \n\u001b[1;32m   1808\u001b[0m \u001b[39m    :param func: Callback function we want to retry\u001b[39;00m\n\u001b[0;32m   (...)\u001b[0m\n\u001b[1;32m   1817\u001b[0m \u001b[39m    :return: Output of the calling func()\u001b[39;00m\n\u001b[1;32m   1818\u001b[0m \u001b[39m    \"\"\"\u001b[39;00m\n\u001b[1;32m   1819\u001b[0m     \u001b[39mreturn\u001b[39;00m _ClientConnectionRetryable(\n\u001b[1;32m   1820\u001b[0m         mongo_client\u001b[39m=\u001b[39;49m\u001b[39mself\u001b[39;49m,\n\u001b[1;32m   1821\u001b[0m         func\u001b[39m=\u001b[39;49mfunc,\n\u001b[1;32m   1822\u001b[0m         bulk\u001b[39m=\u001b[39;49mbulk,\n\u001b[1;32m   1823\u001b[0m         operation\u001b[39m=\u001b[39;49moperation,\n\u001b[1;32m   1824\u001b[0m         is_read\u001b[39m=\u001b[39;49mis_read,\n\u001b[1;32m   1825\u001b[0m         session\u001b[39m=\u001b[39;49msession,\n\u001b[1;32m   1826\u001b[0m         read_pref\u001b[39m=\u001b[39;49mread_pref,\n\u001b[1;32m   1827\u001b[0m         address\u001b[39m=\u001b[39;49maddress,\n\u001b[1;32m   1828\u001b[0m         retryable\u001b[39m=\u001b[39;49mretryable,\n\u001b[1;32m   1829\u001b[0m         operation_id\u001b[39m=\u001b[39;49moperation_id,\n\u001b[0;32m-> 1830\u001b[0m     )\u001b[39m.\u001b[39;49mrun()\n",
      "File \u001b[0;32m~/miniconda3/envs/ragtoday/lib/python3.13/site-packages/pymongo/synchronous/mongo_client.py:2554\u001b[0m, in \u001b[0;36m_ClientConnectionRetryable.run\u001b[0;34m(self)\u001b[0m\n\u001b[1;32m   2552\u001b[0m \u001b[39mself\u001b[39m\u001b[39m.\u001b[39m_check_last_error(check_csot\u001b[39m=\u001b[39m\u001b[39mTrue\u001b[39;00m)\n\u001b[1;32m   2553\u001b[0m \u001b[39mtry\u001b[39;00m:\n\u001b[0;32m-> 2554\u001b[0m     \u001b[39mreturn\u001b[39;00m \u001b[39mself\u001b[39m\u001b[39m.\u001b[39m_read() \u001b[39mif\u001b[39;00m \u001b[39mself\u001b[39m\u001b[39m.\u001b[39m_is_read \u001b[39melse\u001b[39;00m \u001b[39mself\u001b[39;49m\u001b[39m.\u001b[39;49m_write()\n\u001b[1;32m   2555\u001b[0m \u001b[39mexcept\u001b[39;00m ServerSelectionTimeoutError:\n\u001b[1;32m   2556\u001b[0m     \u001b[39m# The application may think the write was never attempted\u001b[39;00m\n\u001b[1;32m   2557\u001b[0m     \u001b[39m# if we raise ServerSelectionTimeoutError on the retry\u001b[39;00m\n\u001b[1;32m   2558\u001b[0m     \u001b[39m# attempt. Raise the original exception instead.\u001b[39;00m\n\u001b[1;32m   2559\u001b[0m     \u001b[39mself\u001b[39m\u001b[39m.\u001b[39m_check_last_error()\n",
      "File \u001b[0;32m~/miniconda3/envs/ragtoday/lib/python3.13/site-packages/pymongo/synchronous/mongo_client.py:2662\u001b[0m, in \u001b[0;36m_ClientConnectionRetryable._write\u001b[0;34m(self)\u001b[0m\n\u001b[1;32m   2660\u001b[0m max_wire_version \u001b[39m=\u001b[39m \u001b[39m0\u001b[39m\n\u001b[1;32m   2661\u001b[0m is_mongos \u001b[39m=\u001b[39m \u001b[39mFalse\u001b[39;00m\n\u001b[0;32m-> 2662\u001b[0m \u001b[39mself\u001b[39m\u001b[39m.\u001b[39m_server \u001b[39m=\u001b[39m \u001b[39mself\u001b[39;49m\u001b[39m.\u001b[39;49m_get_server()\n\u001b[1;32m   2663\u001b[0m \u001b[39mwith\u001b[39;00m \u001b[39mself\u001b[39m\u001b[39m.\u001b[39m_client\u001b[39m.\u001b[39m_checkout(\u001b[39mself\u001b[39m\u001b[39m.\u001b[39m_server, \u001b[39mself\u001b[39m\u001b[39m.\u001b[39m_session) \u001b[39mas\u001b[39;00m conn:\n\u001b[1;32m   2664\u001b[0m     max_wire_version \u001b[39m=\u001b[39m conn\u001b[39m.\u001b[39mmax_wire_version\n",
      "File \u001b[0;32m~/miniconda3/envs/ragtoday/lib/python3.13/site-packages/pymongo/synchronous/mongo_client.py:2645\u001b[0m, in \u001b[0;36m_ClientConnectionRetryable._get_server\u001b[0;34m(self)\u001b[0m\n\u001b[1;32m   2640\u001b[0m \u001b[39mdef\u001b[39;00m \u001b[39m_get_server\u001b[39m(\u001b[39mself\u001b[39m) \u001b[39m-\u001b[39m\u001b[39m>\u001b[39m Server:\n\u001b[1;32m   2641\u001b[0m \u001b[39m    \u001b[39m\u001b[39m\"\"\"Retrieves a server object based on provided object context\u001b[39;00m\n\u001b[1;32m   2642\u001b[0m \n\u001b[1;32m   2643\u001b[0m \u001b[39m    :return: Abstraction to connect to server\u001b[39;00m\n\u001b[1;32m   2644\u001b[0m \u001b[39m    \"\"\"\u001b[39;00m\n\u001b[0;32m-> 2645\u001b[0m     \u001b[39mreturn\u001b[39;00m \u001b[39mself\u001b[39;49m\u001b[39m.\u001b[39;49m_client\u001b[39m.\u001b[39;49m_select_server(\n\u001b[1;32m   2646\u001b[0m         \u001b[39mself\u001b[39;49m\u001b[39m.\u001b[39;49m_server_selector,\n\u001b[1;32m   2647\u001b[0m         \u001b[39mself\u001b[39;49m\u001b[39m.\u001b[39;49m_session,\n\u001b[1;32m   2648\u001b[0m         \u001b[39mself\u001b[39;49m\u001b[39m.\u001b[39;49m_operation,\n\u001b[1;32m   2649\u001b[0m         address\u001b[39m=\u001b[39;49m\u001b[39mself\u001b[39;49m\u001b[39m.\u001b[39;49m_address,\n\u001b[1;32m   2650\u001b[0m         deprioritized_servers\u001b[39m=\u001b[39;49m\u001b[39mself\u001b[39;49m\u001b[39m.\u001b[39;49m_deprioritized_servers,\n\u001b[1;32m   2651\u001b[0m         operation_id\u001b[39m=\u001b[39;49m\u001b[39mself\u001b[39;49m\u001b[39m.\u001b[39;49m_operation_id,\n\u001b[1;32m   2652\u001b[0m     )\n",
      "File \u001b[0;32m~/miniconda3/envs/ragtoday/lib/python3.13/site-packages/pymongo/synchronous/mongo_client.py:1649\u001b[0m, in \u001b[0;36mMongoClient._select_server\u001b[0;34m(self, server_selector, session, operation, address, deprioritized_servers, operation_id)\u001b[0m\n\u001b[1;32m   1647\u001b[0m             \u001b[39mraise\u001b[39;00m AutoReconnect(\u001b[39m\"\u001b[39m\u001b[39mserver \u001b[39m\u001b[39m%s\u001b[39;00m\u001b[39m:\u001b[39m\u001b[39m%s\u001b[39;00m\u001b[39m no longer available\u001b[39m\u001b[39m\"\u001b[39m \u001b[39m%\u001b[39m address)  \u001b[39m# noqa: UP031\u001b[39;00m\n\u001b[1;32m   1648\u001b[0m     \u001b[39melse\u001b[39;00m:\n\u001b[0;32m-> 1649\u001b[0m         server \u001b[39m=\u001b[39m topology\u001b[39m.\u001b[39;49mselect_server(\n\u001b[1;32m   1650\u001b[0m             server_selector,\n\u001b[1;32m   1651\u001b[0m             operation,\n\u001b[1;32m   1652\u001b[0m             deprioritized_servers\u001b[39m=\u001b[39;49mdeprioritized_servers,\n\u001b[1;32m   1653\u001b[0m             operation_id\u001b[39m=\u001b[39;49moperation_id,\n\u001b[1;32m   1654\u001b[0m         )\n\u001b[1;32m   1655\u001b[0m     \u001b[39mreturn\u001b[39;00m server\n\u001b[1;32m   1656\u001b[0m \u001b[39mexcept\u001b[39;00m PyMongoError \u001b[39mas\u001b[39;00m exc:\n\u001b[1;32m   1657\u001b[0m     \u001b[39m# Server selection errors in a transaction are transient.\u001b[39;00m\n",
      "File \u001b[0;32m~/miniconda3/envs/ragtoday/lib/python3.13/site-packages/pymongo/synchronous/topology.py:398\u001b[0m, in \u001b[0;36mTopology.select_server\u001b[0;34m(self, selector, operation, server_selection_timeout, address, deprioritized_servers, operation_id)\u001b[0m\n\u001b[1;32m    388\u001b[0m \u001b[39mdef\u001b[39;00m \u001b[39mselect_server\u001b[39m(\n\u001b[1;32m    389\u001b[0m     \u001b[39mself\u001b[39m,\n\u001b[1;32m    390\u001b[0m     selector: Callable[[Selection], Selection],\n\u001b[0;32m   (...)\u001b[0m\n\u001b[1;32m    395\u001b[0m     operation_id: Optional[\u001b[39mint\u001b[39m] \u001b[39m=\u001b[39m \u001b[39mNone\u001b[39;00m,\n\u001b[1;32m    396\u001b[0m ) \u001b[39m-\u001b[39m\u001b[39m>\u001b[39m Server:\n\u001b[1;32m    397\u001b[0m \u001b[39m    \u001b[39m\u001b[39m\"\"\"Like select_servers, but choose a random server if several match.\"\"\"\u001b[39;00m\n\u001b[0;32m--> 398\u001b[0m     server \u001b[39m=\u001b[39m \u001b[39mself\u001b[39;49m\u001b[39m.\u001b[39;49m_select_server(\n\u001b[1;32m    399\u001b[0m         selector,\n\u001b[1;32m    400\u001b[0m         operation,\n\u001b[1;32m    401\u001b[0m         server_selection_timeout,\n\u001b[1;32m    402\u001b[0m         address,\n\u001b[1;32m    403\u001b[0m         deprioritized_servers,\n\u001b[1;32m    404\u001b[0m         operation_id\u001b[39m=\u001b[39;49moperation_id,\n\u001b[1;32m    405\u001b[0m     )\n\u001b[1;32m    406\u001b[0m     \u001b[39mif\u001b[39;00m _csot\u001b[39m.\u001b[39mget_timeout():\n\u001b[1;32m    407\u001b[0m         _csot\u001b[39m.\u001b[39mset_rtt(server\u001b[39m.\u001b[39mdescription\u001b[39m.\u001b[39mmin_round_trip_time)\n",
      "File \u001b[0;32m~/miniconda3/envs/ragtoday/lib/python3.13/site-packages/pymongo/synchronous/topology.py:376\u001b[0m, in \u001b[0;36mTopology._select_server\u001b[0;34m(self, selector, operation, server_selection_timeout, address, deprioritized_servers, operation_id)\u001b[0m\n\u001b[1;32m    367\u001b[0m \u001b[39mdef\u001b[39;00m \u001b[39m_select_server\u001b[39m(\n\u001b[1;32m    368\u001b[0m     \u001b[39mself\u001b[39m,\n\u001b[1;32m    369\u001b[0m     selector: Callable[[Selection], Selection],\n\u001b[0;32m   (...)\u001b[0m\n\u001b[1;32m    374\u001b[0m     operation_id: Optional[\u001b[39mint\u001b[39m] \u001b[39m=\u001b[39m \u001b[39mNone\u001b[39;00m,\n\u001b[1;32m    375\u001b[0m ) \u001b[39m-\u001b[39m\u001b[39m>\u001b[39m Server:\n\u001b[0;32m--> 376\u001b[0m     servers \u001b[39m=\u001b[39m \u001b[39mself\u001b[39;49m\u001b[39m.\u001b[39;49mselect_servers(\n\u001b[1;32m    377\u001b[0m         selector, operation, server_selection_timeout, address, operation_id\n\u001b[1;32m    378\u001b[0m     )\n\u001b[1;32m    379\u001b[0m     servers \u001b[39m=\u001b[39m _filter_servers(servers, deprioritized_servers)\n\u001b[1;32m    380\u001b[0m     \u001b[39mif\u001b[39;00m \u001b[39mlen\u001b[39m(servers) \u001b[39m==\u001b[39m \u001b[39m1\u001b[39m:\n",
      "File \u001b[0;32m~/miniconda3/envs/ragtoday/lib/python3.13/site-packages/pymongo/synchronous/topology.py:283\u001b[0m, in \u001b[0;36mTopology.select_servers\u001b[0;34m(self, selector, operation, server_selection_timeout, address, operation_id)\u001b[0m\n\u001b[1;32m    280\u001b[0m     server_timeout \u001b[39m=\u001b[39m server_selection_timeout\n\u001b[1;32m    282\u001b[0m \u001b[39mwith\u001b[39;00m \u001b[39mself\u001b[39m\u001b[39m.\u001b[39m_lock:\n\u001b[0;32m--> 283\u001b[0m     server_descriptions \u001b[39m=\u001b[39m \u001b[39mself\u001b[39;49m\u001b[39m.\u001b[39;49m_select_servers_loop(\n\u001b[1;32m    284\u001b[0m         selector, server_timeout, operation, operation_id, address\n\u001b[1;32m    285\u001b[0m     )\n\u001b[1;32m    287\u001b[0m     \u001b[39mreturn\u001b[39;00m [\n\u001b[1;32m    288\u001b[0m         cast(Server, \u001b[39mself\u001b[39m\u001b[39m.\u001b[39mget_server_by_address(sd\u001b[39m.\u001b[39maddress)) \u001b[39mfor\u001b[39;00m sd \u001b[39min\u001b[39;00m server_descriptions\n\u001b[1;32m    289\u001b[0m     ]\n",
      "File \u001b[0;32m~/miniconda3/envs/ragtoday/lib/python3.13/site-packages/pymongo/synchronous/topology.py:333\u001b[0m, in \u001b[0;36mTopology._select_servers_loop\u001b[0;34m(self, selector, timeout, operation, operation_id, address)\u001b[0m\n\u001b[1;32m    322\u001b[0m     \u001b[39mif\u001b[39;00m _SERVER_SELECTION_LOGGER\u001b[39m.\u001b[39misEnabledFor(logging\u001b[39m.\u001b[39mDEBUG):\n\u001b[1;32m    323\u001b[0m         _debug_log(\n\u001b[1;32m    324\u001b[0m             _SERVER_SELECTION_LOGGER,\n\u001b[1;32m    325\u001b[0m             message\u001b[39m=\u001b[39m_ServerSelectionStatusMessage\u001b[39m.\u001b[39mFAILED,\n\u001b[0;32m   (...)\u001b[0m\n\u001b[1;32m    331\u001b[0m             failure\u001b[39m=\u001b[39m\u001b[39mself\u001b[39m\u001b[39m.\u001b[39m_error_message(selector),\n\u001b[1;32m    332\u001b[0m         )\n\u001b[0;32m--> 333\u001b[0m     \u001b[39mraise\u001b[39;00m ServerSelectionTimeoutError(\n\u001b[1;32m    334\u001b[0m         \u001b[39mf\u001b[39m\u001b[39m\"\u001b[39m\u001b[39m{\u001b[39;00m\u001b[39mself\u001b[39m\u001b[39m.\u001b[39m_error_message(selector)\u001b[39m}\u001b[39;00m\u001b[39m, Timeout: \u001b[39m\u001b[39m{\u001b[39;00mtimeout\u001b[39m}\u001b[39;00m\u001b[39ms, Topology Description: \u001b[39m\u001b[39m{\u001b[39;00m\u001b[39mself\u001b[39m\u001b[39m.\u001b[39mdescription\u001b[39m!r}\u001b[39;00m\u001b[39m\"\u001b[39m\n\u001b[1;32m    335\u001b[0m     )\n\u001b[1;32m    337\u001b[0m \u001b[39mif\u001b[39;00m \u001b[39mnot\u001b[39;00m logged_waiting:\n\u001b[1;32m    338\u001b[0m     _debug_log(\n\u001b[1;32m    339\u001b[0m         _SERVER_SELECTION_LOGGER,\n\u001b[1;32m    340\u001b[0m         message\u001b[39m=\u001b[39m_ServerSelectionStatusMessage\u001b[39m.\u001b[39mWAITING,\n\u001b[0;32m   (...)\u001b[0m\n\u001b[1;32m    346\u001b[0m         remainingTimeMS\u001b[39m=\u001b[39m\u001b[39mint\u001b[39m(end_time \u001b[39m-\u001b[39m time\u001b[39m.\u001b[39mmonotonic()),\n\u001b[1;32m    347\u001b[0m     )\n",
      "\u001b[0;31mServerSelectionTimeoutError\u001b[0m: SSL handshake failed: cluster0-shard-00-02.wbknj.mongodb.net:27017: [SSL: TLSV1_ALERT_INTERNAL_ERROR] tlsv1 alert internal error (_ssl.c:1018) (configured timeouts: socketTimeoutMS: 20000.0ms, connectTimeoutMS: 20000.0ms),SSL handshake failed: cluster0-shard-00-00.wbknj.mongodb.net:27017: [SSL: TLSV1_ALERT_INTERNAL_ERROR] tlsv1 alert internal error (_ssl.c:1018) (configured timeouts: socketTimeoutMS: 20000.0ms, connectTimeoutMS: 20000.0ms),SSL handshake failed: cluster0-shard-00-01.wbknj.mongodb.net:27017: [SSL: TLSV1_ALERT_INTERNAL_ERROR] tlsv1 alert internal error (_ssl.c:1018) (configured timeouts: socketTimeoutMS: 20000.0ms, connectTimeoutMS: 20000.0ms), Timeout: 30s, Topology Description: <TopologyDescription id: 67616fbac7c60c7e08df64f4, topology_type: ReplicaSetNoPrimary, servers: [<ServerDescription ('cluster0-shard-00-00.wbknj.mongodb.net', 27017) server_type: Unknown, rtt: None, error=AutoReconnect('SSL handshake failed: cluster0-shard-00-00.wbknj.mongodb.net:27017: [SSL: TLSV1_ALERT_INTERNAL_ERROR] tlsv1 alert internal error (_ssl.c:1018) (configured timeouts: socketTimeoutMS: 20000.0ms, connectTimeoutMS: 20000.0ms)')>, <ServerDescription ('cluster0-shard-00-01.wbknj.mongodb.net', 27017) server_type: Unknown, rtt: None, error=AutoReconnect('SSL handshake failed: cluster0-shard-00-01.wbknj.mongodb.net:27017: [SSL: TLSV1_ALERT_INTERNAL_ERROR] tlsv1 alert internal error (_ssl.c:1018) (configured timeouts: socketTimeoutMS: 20000.0ms, connectTimeoutMS: 20000.0ms)')>, <ServerDescription ('cluster0-shard-00-02.wbknj.mongodb.net', 27017) server_type: Unknown, rtt: None, error=AutoReconnect('SSL handshake failed: cluster0-shard-00-02.wbknj.mongodb.net:27017: [SSL: TLSV1_ALERT_INTERNAL_ERROR] tlsv1 alert internal error (_ssl.c:1018) (configured timeouts: socketTimeoutMS: 20000.0ms, connectTimeoutMS: 20000.0ms)')>]>"
     ]
    }
   ],
   "source": [
    "#Vectorizar\n",
    "from langchain_mongodb import MongoDBAtlasVectorSearch\n",
    "from pymongo import MongoClient\n",
    "from langchain_huggingface import HuggingFaceEmbeddings\n",
    "from langchain.schema import Document\n",
    "from dotenv import load_dotenv\n",
    "import os \n",
    "\n",
    "load_dotenv()\n",
    "\n",
    "MONGODB_ATLAS_CLUSTER_URI = api_key = os.getenv(\"MONGODB_ATLAS_CLUSTER_URI\")\n",
    "DB_NAME = os.getenv(\"DB_NAME\")\n",
    "COLLECTION_NAME = os.getenv(\"COLLECTION_NAME\")\n",
    "ATLAS_VECTOR_SEARCH_INDEX_NAME = os.getenv(\"ATLAS_VECTOR_SEARCH_INDEX_NAME\")\n",
    "\n",
    "client = MongoClient(MONGODB_ATLAS_CLUSTER_URI)\n",
    "embeddings = HuggingFaceEmbeddings(model_name=\"sentence-transformers/all-mpnet-base-v2\")\n",
    "MONGODB_COLLECTION = client[DB_NAME][COLLECTION_NAME]\n",
    "\n",
    "vector_store = MongoDBAtlasVectorSearch(\n",
    "    collection=MONGODB_COLLECTION,\n",
    "    embedding=embeddings,\n",
    "    index_name=ATLAS_VECTOR_SEARCH_INDEX_NAME,\n",
    "    relevance_score_fn=\"cosine\",\n",
    ")\n",
    "\n",
    "for split in splits:\n",
    "    embedding = embeddings.embed_documents(split) \n",
    "    document = Document(\n",
    "        page_content=split,  \n",
    "        embedding=embedding \n",
    "    )\n",
    "\n",
    "    vector_store.add_documents([document])\n",
    "vector_store.create_vector_search_index(dimensions=768)\n",
    "\n",
    "\n",
    "retriever = vector_store.as_retriever()"
   ]
  },
  {
   "cell_type": "code",
   "execution_count": null,
   "metadata": {},
   "outputs": [
    {
     "ename": "",
     "evalue": "",
     "output_type": "error",
     "traceback": [
      "\u001b[1;31mRunning cells with 'Python 3.13.1 ('ragtoday')' requires ipykernel package.\n",
      "\u001b[1;31mRun the following command to install 'ipykernel' into the Python environment. \n",
      "\u001b[1;31mCommand: 'conda install -n ragtoday ipykernel --update-deps --force-reinstall'"
     ]
    }
   ],
   "source": [
    "# Ollama \n",
    "from langchain_core.output_parsers import StrOutputParser\n",
    "from langchain.prompts import ChatPromptTemplate\n",
    "from langchain_ollama.chat_models import ChatOllama\n",
    "from langchain_core.runnables import RunnableLambda, RunnablePassthrough\n",
    "\n",
    "# Prompt\n",
    "template = \"\"\"Responde a la pregunta concisamente y en castellano en base a este contexto:\n",
    "{context}\n",
    "\n",
    "Pregunta: {question}\n",
    "\"\"\"\n",
    "prompt = ChatPromptTemplate.from_template(template)\n",
    "\n",
    "# Local LLM\n",
    "ollama_llm = \"llama3.2\"\n",
    "model_local = ChatOllama(model=ollama_llm)\n",
    "\n",
    "# Chain\n",
    "chain = (\n",
    "    {\"context\": retriever, \"question\": RunnablePassthrough()}\n",
    "    | prompt\n",
    "    | model_local\n",
    "    | StrOutputParser()\n",
    ")\n"
   ]
  },
  {
   "cell_type": "markdown",
   "metadata": {},
   "source": [
    "## 2. Preguntas"
   ]
  },
  {
   "cell_type": "code",
   "execution_count": null,
   "metadata": {},
   "outputs": [
    {
     "ename": "",
     "evalue": "",
     "output_type": "error",
     "traceback": [
      "\u001b[1;31mRunning cells with 'Python 3.13.1 ('ragtoday')' requires ipykernel package.\n",
      "\u001b[1;31mRun the following command to install 'ipykernel' into the Python environment. \n",
      "\u001b[1;31mCommand: 'conda install -n ragtoday ipykernel --update-deps --force-reinstall'"
     ]
    }
   ],
   "source": [
    "chain.invoke(\"¿Dime cómo se puede reproducir una planta?\")"
   ]
  },
  {
   "cell_type": "code",
   "execution_count": null,
   "metadata": {},
   "outputs": [
    {
     "ename": "",
     "evalue": "",
     "output_type": "error",
     "traceback": [
      "\u001b[1;31mRunning cells with 'Python 3.13.1 ('ragtoday')' requires ipykernel package.\n",
      "\u001b[1;31mRun the following command to install 'ipykernel' into the Python environment. \n",
      "\u001b[1;31mCommand: 'conda install -n ragtoday ipykernel --update-deps --force-reinstall'"
     ]
    }
   ],
   "source": [
    "chain.invoke(\"¿Cómo es la estructura de un árbol?\")"
   ]
  },
  {
   "cell_type": "code",
   "execution_count": null,
   "metadata": {},
   "outputs": [
    {
     "ename": "",
     "evalue": "",
     "output_type": "error",
     "traceback": [
      "\u001b[1;31mRunning cells with 'Python 3.13.1 ('ragtoday')' requires ipykernel package.\n",
      "\u001b[1;31mRun the following command to install 'ipykernel' into the Python environment. \n",
      "\u001b[1;31mCommand: 'conda install -n ragtoday ipykernel --update-deps --force-reinstall'"
     ]
    }
   ],
   "source": [
    "chain.invoke(\"¿Cuál es la función del tronco y las ramas?\")"
   ]
  },
  {
   "cell_type": "code",
   "execution_count": null,
   "metadata": {},
   "outputs": [
    {
     "ename": "",
     "evalue": "",
     "output_type": "error",
     "traceback": [
      "\u001b[1;31mRunning cells with 'Python 3.13.1 ('ragtoday')' requires ipykernel package.\n",
      "\u001b[1;31mRun the following command to install 'ipykernel' into the Python environment. \n",
      "\u001b[1;31mCommand: 'conda install -n ragtoday ipykernel --update-deps --force-reinstall'"
     ]
    }
   ],
   "source": [
    "chain.invoke(\"¿Tienen las cabras pupilas circulares?\")"
   ]
  },
  {
   "cell_type": "code",
   "execution_count": null,
   "metadata": {},
   "outputs": [
    {
     "ename": "",
     "evalue": "",
     "output_type": "error",
     "traceback": [
      "\u001b[1;31mRunning cells with 'Python 3.13.1 ('ragtoday')' requires ipykernel package.\n",
      "\u001b[1;31mRun the following command to install 'ipykernel' into the Python environment. \n",
      "\u001b[1;31mCommand: 'conda install -n ragtoday ipykernel --update-deps --force-reinstall'"
     ]
    }
   ],
   "source": [
    "chain.invoke(\"Háblame de la clasificación de las flores\")"
   ]
  },
  {
   "cell_type": "code",
   "execution_count": null,
   "metadata": {},
   "outputs": [
    {
     "ename": "",
     "evalue": "",
     "output_type": "error",
     "traceback": [
      "\u001b[1;31mRunning cells with 'Python 3.13.1 ('ragtoday')' requires ipykernel package.\n",
      "\u001b[1;31mRun the following command to install 'ipykernel' into the Python environment. \n",
      "\u001b[1;31mCommand: 'conda install -n ragtoday ipykernel --update-deps --force-reinstall'"
     ]
    }
   ],
   "source": [
    "chain.invoke(\"¿Un árbol emite nitrógeno a la atmósfera?\")"
   ]
  }
 ],
 "metadata": {
  "kernelspec": {
   "display_name": "Python 3.13.1 ('ragtoday')",
   "language": "python",
   "name": "python3"
  },
  "language_info": {
   "codemirror_mode": {
    "name": "ipython",
    "version": 3
   },
   "file_extension": ".py",
   "mimetype": "text/x-python",
   "name": "python",
   "nbconvert_exporter": "python",
   "pygments_lexer": "ipython3",
   "version": "3.13.1"
  },
  "orig_nbformat": 4,
  "vscode": {
   "interpreter": {
    "hash": "63e83d64a0deb067b2bb8af900a30716d905ae5885fcebc18dc632317aa5a763"
   }
  }
 },
 "nbformat": 4,
 "nbformat_minor": 2
}
